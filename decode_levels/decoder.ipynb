{
 "cells": [
  {
   "cell_type": "code",
   "execution_count": 4,
   "metadata": {},
   "outputs": [
    {
     "output_type": "execute_result",
     "data": {
      "text/plain": "array([[[2, 3, 3, 4, 0, 5, 5, 5, 5, 2, 2, 5, 0, 5, 0, 0, 0, 0, 0, 0, 5,\n         0, 0, 4, 0, 3, 3, 4],\n        [2, 2, 0, 4, 5, 5, 5, 5, 5, 0, 5, 0, 4, 0, 5, 0, 4, 4, 0, 5, 0,\n         4, 2, 2, 2, 2, 2, 2],\n        [0, 5, 0, 5, 0, 5, 0, 5, 5, 5, 0, 0, 4, 0, 5, 5, 4, 4, 4, 0, 0,\n         4, 0, 0, 0, 0, 0, 0],\n        [0, 0, 5, 0, 0, 0, 0, 0, 5, 0, 0, 0, 4, 0, 0, 0, 5, 5, 0, 0, 0,\n         4, 0, 1, 0, 0, 0, 4],\n        [4, 1, 0, 0, 0, 1, 0, 0, 1, 0, 0, 0, 4, 0, 0, 0, 5, 0, 0, 0, 0,\n         4, 3, 3, 2, 2, 3, 4],\n        [2, 3, 3, 3, 3, 3, 3, 3, 3, 3, 3, 3, 3, 3, 4, 5, 0, 0, 0, 0, 0,\n         4, 3, 0, 1, 0, 3, 4],\n        [2, 2, 3, 1, 0, 0, 0, 0, 0, 0, 0, 0, 0, 0, 3, 0, 0, 0, 0, 0, 0,\n         4, 3, 4, 3, 1, 3, 4],\n        [2, 2, 3, 0, 0, 0, 1, 0, 1, 0, 0, 0, 0, 1, 3, 0, 0, 0, 0, 1, 0,\n         4, 3, 4, 3, 1, 3, 4],\n        [4, 2, 2, 2, 2, 2, 2, 2, 2, 2, 2, 4, 2, 3, 3, 4, 2, 2, 2, 2, 5,\n         4, 3, 4, 3, 1, 3, 4],\n        [4, 2, 2, 2, 0, 0, 0, 0, 0, 0, 0, 4, 2, 2, 4, 4, 0, 0, 0, 0, 0,\n         4, 3, 4, 3, 1, 3, 4],\n        [4, 4, 2, 2, 2, 2, 2, 0, 0, 0, 0, 4, 2, 2, 4, 0, 1, 1, 1, 0, 0,\n         0, 3, 4, 1, 1, 3, 4],\n        [4, 4, 2, 2, 2, 0, 0, 2, 2, 2, 1, 4, 2, 2, 3, 3, 2, 2, 2, 2, 2,\n         4, 3, 4, 0, 0, 0, 0],\n        [4, 4, 2, 2, 2, 0, 0, 2, 2, 2, 0, 4, 4, 1, 0, 1, 1, 0, 1, 0, 0,\n         4, 0, 0, 0, 1, 0, 0],\n        [3, 3, 2, 2, 2, 1, 0, 2, 2, 2, 1, 4, 4, 0, 0, 0, 0, 0, 5, 5, 1,\n         4, 0, 2, 2, 2, 2, 0],\n        [3, 3, 1, 0, 1, 2, 2, 1, 0, 1, 0, 4, 2, 2, 0, 0, 4, 2, 0, 0, 2,\n         4, 2, 2, 1, 1, 2, 2],\n        [2, 2, 2, 2, 2, 2, 2, 2, 2, 2, 2, 2, 2, 2, 2, 2, 2, 2, 2, 2, 2,\n         2, 2, 2, 2, 2, 2, 2]]])"
     },
     "metadata": {},
     "execution_count": 4
    }
   ],
   "source": [
    "import numpy as np\n",
    "import json\n",
    "levelsJson = \"latent_levels_adam.json\"\n",
    "levels = np.array(json.load(open(levelsJson)))\n",
    "levels"
   ]
  },
  {
   "cell_type": "code",
   "execution_count": 6,
   "metadata": {},
   "outputs": [],
   "source": [
    "from PIL import Image\n",
    "im0 = Image.open(\"0 - empty.png\")\n",
    "im1 = Image.open(\"1 - gold.png\")\n",
    "im2 = Image.open(\"2 - brick.png\")\n",
    "im3 = Image.open(\"3 - block.png\")\n",
    "im4 = Image.open(\"4 - ladder.png\")\n",
    "im5 = Image.open(\"5 - rope.png\")\n"
   ]
  },
  {
   "cell_type": "code",
   "execution_count": 8,
   "metadata": {},
   "outputs": [],
   "source": [
    "import numpy as np\n",
    "pic_dict = {0:np.array(im0),\n",
    "           1:np.array(im1),\n",
    "           2:np.array(im2),\n",
    "           3:np.array(im3),\n",
    "           4:np.array(im4.resize((40,44))),\n",
    "           5:np.array(im5)}"
   ]
  },
  {
   "cell_type": "code",
   "execution_count": 10,
   "metadata": {
    "tags": []
   },
   "outputs": [
    {
     "output_type": "stream",
     "name": "stdout",
     "text": "(1, 16, 28)\n(16, 28)\n"
    }
   ],
   "source": [
    "print(levels.shape)\n",
    "print(levels[0].shape)"
   ]
  },
  {
   "cell_type": "code",
   "execution_count": 12,
   "metadata": {},
   "outputs": [],
   "source": [
    "objs = levels[0].flatten()\n",
    "img = pic_dict[objs[0]]\n",
    "for idx in range(1, len(objs)):\n",
    "    img= np.concatenate((img, pic_dict[objs[idx]]), axis=1)"
   ]
  },
  {
   "cell_type": "code",
   "execution_count": 14,
   "metadata": {
    "tags": []
   },
   "outputs": [
    {
     "output_type": "stream",
     "name": "stdout",
     "text": "(44, 17920, 4)\n"
    }
   ],
   "source": [
    "print(img.shape)"
   ]
  },
  {
   "cell_type": "code",
   "execution_count": 16,
   "metadata": {
    "tags": []
   },
   "outputs": [
    {
     "output_type": "stream",
     "name": "stdout",
     "text": "(44, 1120, 4)\n(44, 1120, 4)\n2\n(44, 1120, 4)\n3\n(44, 1120, 4)\n4\n(44, 1120, 4)\n5\n(44, 1120, 4)\n6\n(44, 1120, 4)\n7\n(44, 1120, 4)\n8\n(44, 1120, 4)\n9\n(44, 1120, 4)\n10\n(44, 1120, 4)\n11\n(44, 1120, 4)\n12\n(44, 1120, 4)\n13\n(44, 1120, 4)\n14\n(44, 1120, 4)\n15\n(44, 1120, 4)\n16\n"
    }
   ],
   "source": [
    "fin=img[:,:1120,:]\n",
    "print(fin.shape)\n",
    "for i in range(2, 17):\n",
    "    print(img[:,((i-1)*1120):(i*1120), :].shape)\n",
    "    print(i)\n",
    "    fin=np.vstack((fin, img[:,((i-1)*1120):(i*1120), :]))\n",
    "    "
   ]
  },
  {
   "cell_type": "code",
   "execution_count": null,
   "metadata": {
    "tags": []
   },
   "outputs": [],
   "source": [
    "print(fin.shape)\n",
    "pin = Image.fromarray(fin)\n",
    "new_image = Image.new(\"RGBA\", pin.size, \"BLACK\") # Create a white rgba background\n",
    "new_image.paste(pin, (0, 0), pin)              # Paste the image on the background. Go to the links given below for details.\n",
    "new_image.convert('RGB').save('final_adam.jpg', \"JPEG\")  # Save as JPEGs\n",
    "new_image.show()"
   ]
  },
  {
   "cell_type": "code",
   "execution_count": 26,
   "metadata": {},
   "outputs": [],
   "source": [
    "from PIL import Image\n",
    "im = Image.open(\"5 - rope.png\")\n",
    "bg = Image.new(\"RGB\", im.size, \"BLACK\")\n",
    "bg.paste(im,im)\n",
    "bg.save(\"rope.jpg\")"
   ]
  },
  {
   "cell_type": "code",
   "execution_count": null,
   "metadata": {},
   "outputs": [],
   "source": []
  }
 ],
 "metadata": {
  "kernelspec": {
   "display_name": "Python 3",
   "language": "python",
   "name": "python3"
  },
  "language_info": {
   "codemirror_mode": {
    "name": "ipython",
    "version": 3
   },
   "file_extension": ".py",
   "mimetype": "text/x-python",
   "name": "python",
   "nbconvert_exporter": "python",
   "pygments_lexer": "ipython3",
   "version": "3.8.2-final"
  }
 },
 "nbformat": 4,
 "nbformat_minor": 2
}